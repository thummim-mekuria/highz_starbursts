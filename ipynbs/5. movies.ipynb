{
 "cells": [
  {
   "cell_type": "code",
   "execution_count": 2,
   "id": "77a0fbf6-8a16-4cd8-9cb2-ce3042472e70",
   "metadata": {
    "collapsed": true,
    "jupyter": {
     "outputs_hidden": true
    },
    "scrolled": true
   },
   "outputs": [
    {
     "name": "stderr",
     "output_type": "stream",
     "text": [
      "/mnt/sw/nix/store/ra5wbxf51x3xx6i9dz7kw8pcbxviwzcg-python-3.10.13-view/lib/python3.10/site-packages/numpy/core/getlimits.py:549: UserWarning: The value of the smallest subnormal for <class 'numpy.float64'> type is zero.\n",
      "  setattr(self, word, getattr(machar, word).flat[0])\n",
      "/mnt/sw/nix/store/ra5wbxf51x3xx6i9dz7kw8pcbxviwzcg-python-3.10.13-view/lib/python3.10/site-packages/numpy/core/getlimits.py:89: UserWarning: The value of the smallest subnormal for <class 'numpy.float64'> type is zero.\n",
      "  return self._float_to_str(self.smallest_subnormal)\n"
     ]
    }
   ],
   "source": [
    "import yt\n",
    "import numpy             as np\n",
    "\n",
    "import matplotlib.pyplot as plt\n",
    "from   matplotlib    import cm\n",
    "\n",
    "\n",
    "from   astropy.table import QTable\n",
    "import astropy.constants as c\n",
    "import astropy.units     as u\n",
    "\n",
    "\n",
    "dir_main    = \"/mnt/sdceph/users/smenon/RHDSphereKrome/\" \n",
    "dirs_prfx   = \"GalaxyICsHydroDef\"\n",
    "\n",
    "dir_control = dir_main +dirs_prfx\n",
    "dir_allr    = dir_main +dirs_prfx +\"AllBands\"\n",
    "dir_sne     = dir_main +dirs_prfx +\"SNeOnly\"\n",
    "dir_both    = dir_main +dirs_prfx +\"SNeRHD\"\n",
    "\n",
    "\n",
    "fils_prfx   = \"/RHDTurb_hdf5_\"\n",
    "ftype_plot  = fils_prfx +\"plt_cnt_\"\n",
    "# ftype_part  = fils_prfx +\"part_\"\n",
    "file_num    = \"{:04d}\"\n",
    "\n",
    "dirs        = [dir_control, dir_allr, dir_sne, dir_both]\n",
    "Ns_done     = [201,         381,      130,     63]"
   ]
  },
  {
   "cell_type": "code",
   "execution_count": 6,
   "id": "2e760547-fa06-42b9-9e09-595bf8adf678",
   "metadata": {},
   "outputs": [],
   "source": [
    "plots_4x = [[dir+ftype_plot+file_num.format(n) \n",
    "                                              for n in range(N)             ]\n",
    "                                              for dir,N in zip(dirs,Ns_done)]"
   ]
  },
  {
   "cell_type": "code",
   "execution_count": null,
   "id": "a9031606-d967-4970-8f66-9ffc5f7ce0cf",
   "metadata": {
    "collapsed": true,
    "jupyter": {
     "outputs_hidden": true
    },
    "scrolled": true
   },
   "outputs": [
    {
     "name": "stderr",
     "output_type": "stream",
     "text": [
      "yt : [INFO     ] 2025-02-06 17:01:07,451 Particle file found: RHDTurb_hdf5_part_0000\n",
      "yt : [INFO     ] 2025-02-06 17:01:07,501 Parameters: current_time              = 0.0\n",
      "yt : [INFO     ] 2025-02-06 17:01:07,503 Parameters: domain_dimensions         = [16 16 16]\n",
      "yt : [INFO     ] 2025-02-06 17:01:07,504 Parameters: domain_left_edge          = [-4.31995267e+21 -4.31995267e+21 -4.31995267e+21]\n",
      "yt : [INFO     ] 2025-02-06 17:01:07,506 Parameters: domain_right_edge         = [4.31995267e+21 4.31995267e+21 4.31995267e+21]\n",
      "yt : [INFO     ] 2025-02-06 17:01:07,507 Parameters: cosmological_simulation   = 0\n",
      "yt : [INFO     ] 2025-02-06 17:01:08,202 Projection completed\n",
      "yt : [INFO     ] 2025-02-06 17:01:08,204 xlim = -4319952671731075776512.000000 4319952671731075776512.000000\n",
      "yt : [INFO     ] 2025-02-06 17:01:08,205 ylim = -4319952671731075776512.000000 4319952671731075776512.000000\n",
      "yt : [INFO     ] 2025-02-06 17:01:08,207 xlim = -4319952671731075776512.000000 4319952671731075776512.000000\n",
      "yt : [INFO     ] 2025-02-06 17:01:08,208 ylim = -4319952671731075776512.000000 4319952671731075776512.000000\n",
      "yt : [INFO     ] 2025-02-06 17:01:08,211 Making a fixed resolution buffer of (('flash', 'dens')) 800 by 800\n",
      "yt : [INFO     ] 2025-02-06 17:01:08,564 Particle file found: RHDTurb_hdf5_part_0001\n",
      "yt : [INFO     ] 2025-02-06 17:01:08,614 Parameters: current_time              = 3902250095523.4453\n",
      "yt : [INFO     ] 2025-02-06 17:01:08,616 Parameters: domain_dimensions         = [16 16 16]\n",
      "yt : [INFO     ] 2025-02-06 17:01:08,618 Parameters: domain_left_edge          = [-4.31995267e+21 -4.31995267e+21 -4.31995267e+21]\n",
      "yt : [INFO     ] 2025-02-06 17:01:08,620 Parameters: domain_right_edge         = [4.31995267e+21 4.31995267e+21 4.31995267e+21]\n",
      "yt : [INFO     ] 2025-02-06 17:01:08,621 Parameters: cosmological_simulation   = 0\n",
      "yt : [INFO     ] 2025-02-06 17:01:09,306 Projection completed\n",
      "yt : [INFO     ] 2025-02-06 17:01:09,308 xlim = -4319952671731075776512.000000 4319952671731075776512.000000\n",
      "yt : [INFO     ] 2025-02-06 17:01:09,309 ylim = -4319952671731075776512.000000 4319952671731075776512.000000\n",
      "yt : [INFO     ] 2025-02-06 17:01:09,311 xlim = -4319952671731075776512.000000 4319952671731075776512.000000\n",
      "yt : [INFO     ] 2025-02-06 17:01:09,312 ylim = -4319952671731075776512.000000 4319952671731075776512.000000\n",
      "yt : [INFO     ] 2025-02-06 17:01:09,315 Making a fixed resolution buffer of (('flash', 'dens')) 800 by 800\n",
      "yt : [INFO     ] 2025-02-06 17:01:09,673 Particle file found: RHDTurb_hdf5_part_0002\n",
      "yt : [INFO     ] 2025-02-06 17:01:09,722 Parameters: current_time              = 6864383239336.046\n",
      "yt : [INFO     ] 2025-02-06 17:01:09,724 Parameters: domain_dimensions         = [16 16 16]\n",
      "yt : [INFO     ] 2025-02-06 17:01:09,725 Parameters: domain_left_edge          = [-4.31995267e+21 -4.31995267e+21 -4.31995267e+21]\n",
      "yt : [INFO     ] 2025-02-06 17:01:09,727 Parameters: domain_right_edge         = [4.31995267e+21 4.31995267e+21 4.31995267e+21]\n",
      "yt : [INFO     ] 2025-02-06 17:01:09,728 Parameters: cosmological_simulation   = 0\n",
      "yt : [INFO     ] 2025-02-06 17:01:10,414 Projection completed\n",
      "yt : [INFO     ] 2025-02-06 17:01:10,416 xlim = -4319952671731075776512.000000 4319952671731075776512.000000\n",
      "yt : [INFO     ] 2025-02-06 17:01:10,418 ylim = -4319952671731075776512.000000 4319952671731075776512.000000\n",
      "yt : [INFO     ] 2025-02-06 17:01:10,419 xlim = -4319952671731075776512.000000 4319952671731075776512.000000\n",
      "yt : [INFO     ] 2025-02-06 17:01:10,421 ylim = -4319952671731075776512.000000 4319952671731075776512.000000\n",
      "yt : [INFO     ] 2025-02-06 17:01:10,423 Making a fixed resolution buffer of (('flash', 'dens')) 800 by 800\n",
      "yt : [INFO     ] 2025-02-06 17:01:10,783 Particle file found: RHDTurb_hdf5_part_0003\n",
      "yt : [INFO     ] 2025-02-06 17:01:10,834 Parameters: current_time              = 9917473557293.088\n",
      "yt : [INFO     ] 2025-02-06 17:01:10,835 Parameters: domain_dimensions         = [16 16 16]\n",
      "yt : [INFO     ] 2025-02-06 17:01:10,837 Parameters: domain_left_edge          = [-4.31995267e+21 -4.31995267e+21 -4.31995267e+21]\n",
      "yt : [INFO     ] 2025-02-06 17:01:10,839 Parameters: domain_right_edge         = [4.31995267e+21 4.31995267e+21 4.31995267e+21]\n",
      "yt : [INFO     ] 2025-02-06 17:01:10,840 Parameters: cosmological_simulation   = 0\n",
      "yt : [INFO     ] 2025-02-06 17:01:11,521 Projection completed\n",
      "yt : [INFO     ] 2025-02-06 17:01:11,524 xlim = -4319952671731075776512.000000 4319952671731075776512.000000\n",
      "yt : [INFO     ] 2025-02-06 17:01:11,525 ylim = -4319952671731075776512.000000 4319952671731075776512.000000\n",
      "yt : [INFO     ] 2025-02-06 17:01:11,527 xlim = -4319952671731075776512.000000 4319952671731075776512.000000\n",
      "yt : [INFO     ] 2025-02-06 17:01:11,528 ylim = -4319952671731075776512.000000 4319952671731075776512.000000\n",
      "yt : [INFO     ] 2025-02-06 17:01:11,530 Making a fixed resolution buffer of (('flash', 'dens')) 800 by 800\n",
      "yt : [INFO     ] 2025-02-06 17:01:11,891 Particle file found: RHDTurb_hdf5_part_0004\n",
      "yt : [INFO     ] 2025-02-06 17:01:11,942 Parameters: current_time              = 13080461135773.182\n",
      "yt : [INFO     ] 2025-02-06 17:01:11,943 Parameters: domain_dimensions         = [16 16 16]\n",
      "yt : [INFO     ] 2025-02-06 17:01:11,945 Parameters: domain_left_edge          = [-4.31995267e+21 -4.31995267e+21 -4.31995267e+21]\n",
      "yt : [INFO     ] 2025-02-06 17:01:11,947 Parameters: domain_right_edge         = [4.31995267e+21 4.31995267e+21 4.31995267e+21]\n",
      "yt : [INFO     ] 2025-02-06 17:01:11,948 Parameters: cosmological_simulation   = 0\n",
      "yt : [INFO     ] 2025-02-06 17:01:12,628 Projection completed\n",
      "yt : [INFO     ] 2025-02-06 17:01:12,630 xlim = -4319952671731075776512.000000 4319952671731075776512.000000\n",
      "yt : [INFO     ] 2025-02-06 17:01:12,632 ylim = -4319952671731075776512.000000 4319952671731075776512.000000\n",
      "yt : [INFO     ] 2025-02-06 17:01:12,633 xlim = -4319952671731075776512.000000 4319952671731075776512.000000\n",
      "yt : [INFO     ] 2025-02-06 17:01:12,635 ylim = -4319952671731075776512.000000 4319952671731075776512.000000\n",
      "yt : [INFO     ] 2025-02-06 17:01:12,637 Making a fixed resolution buffer of (('flash', 'dens')) 800 by 800\n",
      "yt : [INFO     ] 2025-02-06 17:01:12,994 Particle file found: RHDTurb_hdf5_part_0005\n",
      "yt : [INFO     ] 2025-02-06 17:01:13,044 Parameters: current_time              = 16370110121919.113\n",
      "yt : [INFO     ] 2025-02-06 17:01:13,046 Parameters: domain_dimensions         = [16 16 16]\n",
      "yt : [INFO     ] 2025-02-06 17:01:13,048 Parameters: domain_left_edge          = [-4.31995267e+21 -4.31995267e+21 -4.31995267e+21]\n",
      "yt : [INFO     ] 2025-02-06 17:01:13,049 Parameters: domain_right_edge         = [4.31995267e+21 4.31995267e+21 4.31995267e+21]\n",
      "yt : [INFO     ] 2025-02-06 17:01:13,051 Parameters: cosmological_simulation   = 0\n",
      "yt : [INFO     ] 2025-02-06 17:01:15,452 Projection completed\n",
      "yt : [INFO     ] 2025-02-06 17:01:15,455 xlim = -4319952671731075776512.000000 4319952671731075776512.000000\n",
      "yt : [INFO     ] 2025-02-06 17:01:15,456 ylim = -4319952671731075776512.000000 4319952671731075776512.000000\n",
      "yt : [INFO     ] 2025-02-06 17:01:15,457 xlim = -4319952671731075776512.000000 4319952671731075776512.000000\n",
      "yt : [INFO     ] 2025-02-06 17:01:15,459 ylim = -4319952671731075776512.000000 4319952671731075776512.000000\n",
      "yt : [INFO     ] 2025-02-06 17:01:15,461 Making a fixed resolution buffer of (('flash', 'dens')) 800 by 800\n",
      "yt : [INFO     ] 2025-02-06 17:01:15,845 Particle file found: RHDTurb_hdf5_part_0006\n",
      "yt : [INFO     ] 2025-02-06 17:01:15,896 Parameters: current_time              = 19827086877624.293\n",
      "yt : [INFO     ] 2025-02-06 17:01:15,898 Parameters: domain_dimensions         = [16 16 16]\n",
      "yt : [INFO     ] 2025-02-06 17:01:15,900 Parameters: domain_left_edge          = [-4.31995267e+21 -4.31995267e+21 -4.31995267e+21]\n",
      "yt : [INFO     ] 2025-02-06 17:01:15,901 Parameters: domain_right_edge         = [4.31995267e+21 4.31995267e+21 4.31995267e+21]\n",
      "yt : [INFO     ] 2025-02-06 17:01:15,903 Parameters: cosmological_simulation   = 0\n"
     ]
    }
   ],
   "source": [
    "%%time\n",
    "slcs_z_rho_c = [[yt.ProjectionPlot(\n",
    "                                    yt.load(file),\n",
    "                                                  'z','dens') \n",
    "                                             for file in pfiles]\n",
    "                                             for pfiles in plots_4x[:1]]\n",
    "                                             # for file in pfiles]"
   ]
  },
  {
   "cell_type": "code",
   "execution_count": null,
   "id": "a8b4b2aa-9c8b-4339-9453-8e22f78f2319",
   "metadata": {},
   "outputs": [],
   "source": []
  },
  {
   "cell_type": "code",
   "execution_count": null,
   "id": "dad3ba84-c7ee-4b78-931c-16bc29b2539f",
   "metadata": {},
   "outputs": [],
   "source": []
  },
  {
   "cell_type": "code",
   "execution_count": null,
   "id": "0591ba5b-2207-4076-98a0-516ec705c35c",
   "metadata": {},
   "outputs": [],
   "source": []
  },
  {
   "cell_type": "code",
   "execution_count": null,
   "id": "2644d65a-687e-4211-884a-66a5e45d45b5",
   "metadata": {},
   "outputs": [],
   "source": []
  },
  {
   "cell_type": "code",
   "execution_count": null,
   "id": "5cbc5bb7-3815-4dc3-a565-438f2bba3ff4",
   "metadata": {},
   "outputs": [],
   "source": []
  },
  {
   "cell_type": "code",
   "execution_count": null,
   "id": "739a013e-2c96-4009-a04a-8d57454d33d6",
   "metadata": {},
   "outputs": [],
   "source": []
  },
  {
   "cell_type": "code",
   "execution_count": null,
   "id": "794bbaee-fcf2-40f6-a36d-79c412a6b2d0",
   "metadata": {},
   "outputs": [],
   "source": []
  },
  {
   "cell_type": "code",
   "execution_count": null,
   "id": "0ade5ce8-2c58-4d8c-a983-5f6f81134891",
   "metadata": {},
   "outputs": [],
   "source": [
    "slc.annotate_particles(width=(2,'kpc'),p_size=250.,marker='*',col='red')"
   ]
  },
  {
   "cell_type": "code",
   "execution_count": null,
   "id": "315dcc15-315f-44a0-bd9d-568dfa3557d8",
   "metadata": {},
   "outputs": [],
   "source": [
    "slc.annotate_velocity(headwidth=3,alpha=0.5) #Annotate the velocity field with quivers to visualise the vector"
   ]
  },
  {
   "cell_type": "code",
   "execution_count": null,
   "id": "e0c92d8c-79c3-4757-874e-14b1f0dfebdd",
   "metadata": {},
   "outputs": [],
   "source": [
    "#skipping 12th file, somehow corrupted\n",
    "slcs = [yt.ProjectionPlot(plot_files[i],'z','dens') for i in range(12)]+\\\n",
    "       [yt.ProjectionPlot(plot_files[i],'z','dens') for i in range(13,201)]"
   ]
  },
  {
   "cell_type": "code",
   "execution_count": null,
   "id": "3b0f7c5a-98be-4241-88d0-b91b6640d068",
   "metadata": {},
   "outputs": [],
   "source": []
  },
  {
   "cell_type": "code",
   "execution_count": null,
   "id": "1747a9fd-176b-467a-ad4b-42dfd13c3edf",
   "metadata": {},
   "outputs": [],
   "source": [
    "fig_names = [\"RHDTurb_rho_zproj_{:04d}\".format(n+1)+\".png\" for n in range(12)]+\\ #so it ends up as 1-12 instead of 0-11\n",
    "[\"RHDTurb_rho_zproj_{:04d}\".format(n)+\".png\" for n in range(13,201)]"
   ]
  },
  {
   "cell_type": "code",
   "execution_count": null,
   "id": "3b1f7d37-d221-4e56-a4cb-2405ed668f94",
   "metadata": {},
   "outputs": [],
   "source": [
    "[slc.save(mydir+fig_name) for slc,fig_name in zip(slcs_all,fig_names)]"
   ]
  },
  {
   "cell_type": "code",
   "execution_count": null,
   "id": "9a7611c0-1a77-4059-adce-8fdc11ca7604",
   "metadata": {},
   "outputs": [],
   "source": []
  },
  {
   "cell_type": "code",
   "execution_count": null,
   "id": "c43a9c57-55de-4544-9170-b711311cd12b",
   "metadata": {},
   "outputs": [],
   "source": []
  },
  {
   "cell_type": "code",
   "execution_count": null,
   "id": "ff350fbc-b283-4421-92e7-74ecf5d6bad3",
   "metadata": {},
   "outputs": [],
   "source": []
  }
 ],
 "metadata": {
  "kernelspec": {
   "display_name": "yt_kern",
   "language": "python",
   "name": "yt_kern"
  },
  "language_info": {
   "codemirror_mode": {
    "name": "ipython",
    "version": 3
   },
   "file_extension": ".py",
   "mimetype": "text/x-python",
   "name": "python",
   "nbconvert_exporter": "python",
   "pygments_lexer": "ipython3",
   "version": "3.10.13"
  }
 },
 "nbformat": 4,
 "nbformat_minor": 5
}
